{
 "cells": [
  {
   "cell_type": "code",
   "execution_count": 1,
   "id": "e5780e93-deb1-468a-93f8-7886b0fac8c7",
   "metadata": {},
   "outputs": [
    {
     "name": "stdout",
     "output_type": "stream",
     "text": [
      "1.25\n"
     ]
    }
   ],
   "source": [
    "#Variance:-Spread out from mean\n",
    "import numpy as np\n",
    "arr=np.array([1,2,3,4])\n",
    "print(np.var(arr))"
   ]
  },
  {
   "cell_type": "code",
   "execution_count": 2,
   "id": "47950fbc-9572-439b-ab0e-bc4dfe7c9579",
   "metadata": {},
   "outputs": [
    {
     "name": "stdout",
     "output_type": "stream",
     "text": [
      "1.118033988749895\n"
     ]
    }
   ],
   "source": [
    "#Variance:-sqrt of variance,also measures spread out but in same units as the original data \n",
    "import numpy as np\n",
    "arr=np.array([1,2,3,4])\n",
    "print(np.std(arr))"
   ]
  },
  {
   "cell_type": "code",
   "execution_count": 3,
   "id": "88958ef9-6dcf-4ddf-9f4f-198b794a5c41",
   "metadata": {},
   "outputs": [
    {
     "name": "stdout",
     "output_type": "stream",
     "text": [
      "[1.11803399 1.11803399]\n",
      "[2.5 2.5 2.5 2.5]\n"
     ]
    }
   ],
   "source": [
    "#axis=0(col) axis=1(row)\n",
    "import numpy as np\n",
    "arr=np.array([[1,2,3,4], [6,7,8,9]])\n",
    "print(np.std(arr,axis=1))\n",
    "print(np.std(arr,axis=0))"
   ]
  }
 ],
 "metadata": {
  "kernelspec": {
   "display_name": "Python [conda env:base] *",
   "language": "python",
   "name": "conda-base-py"
  },
  "language_info": {
   "codemirror_mode": {
    "name": "ipython",
    "version": 3
   },
   "file_extension": ".py",
   "mimetype": "text/x-python",
   "name": "python",
   "nbconvert_exporter": "python",
   "pygments_lexer": "ipython3",
   "version": "3.12.7"
  }
 },
 "nbformat": 4,
 "nbformat_minor": 5
}
