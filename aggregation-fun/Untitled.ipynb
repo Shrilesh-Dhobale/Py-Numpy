{
 "cells": [
  {
   "cell_type": "code",
   "execution_count": 6,
   "id": "c42c79ac-1cdb-4328-b0d4-7a96310ac7a8",
   "metadata": {},
   "outputs": [
    {
     "name": "stdout",
     "output_type": "stream",
     "text": [
      "10\n",
      "[4 6]\n",
      "[3 7]\n",
      "2.5\n",
      "[2. 3.]\n",
      "4\n",
      "[2 4]\n"
     ]
    }
   ],
   "source": [
    "\n",
    "import numpy as np\n",
    "arr=np.array([[1,2],[3,4]])\n",
    "print(np.sum(arr))\n",
    "print(np.sum(arr,axis=0))\n",
    "print(np.sum(arr,axis=1))\n",
    "print(np.mean(arr))\n",
    "print(np.mean(arr,axis=0))\n",
    "print(np.max(arr))\n",
    "print(np.max(arr,axis=1))"
   ]
  }
 ],
 "metadata": {
  "kernelspec": {
   "display_name": "Python [conda env:base] *",
   "language": "python",
   "name": "conda-base-py"
  },
  "language_info": {
   "codemirror_mode": {
    "name": "ipython",
    "version": 3
   },
   "file_extension": ".py",
   "mimetype": "text/x-python",
   "name": "python",
   "nbconvert_exporter": "python",
   "pygments_lexer": "ipython3",
   "version": "3.12.7"
  }
 },
 "nbformat": 4,
 "nbformat_minor": 5
}
