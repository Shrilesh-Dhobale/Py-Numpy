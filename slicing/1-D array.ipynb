{
 "cells": [
  {
   "cell_type": "code",
   "execution_count": 8,
   "id": "3d812e0b-997e-4af9-8e94-3ca9ce706b99",
   "metadata": {},
   "outputs": [
    {
     "name": "stdout",
     "output_type": "stream",
     "text": [
      "[2 3 4]\n",
      "[2 3 4]\n",
      "[2 4]\n",
      "[5 3]\n",
      "[1 2]\n"
     ]
    }
   ],
   "source": [
    "#slicing of 1-D array\n",
    "import numpy as np\n",
    "arr=np.array([1, 2, 3, 4, 5])\n",
    "print(arr[1:4])\n",
    "print(arr[-4:-1])\n",
    "print(arr[1:5:2])#slicing with steps\n",
    "print(arr[4:1:-2])#-ve indexing and -ve steps\n",
    "print(arr[:2])"
   ]
  }
 ],
 "metadata": {
  "kernelspec": {
   "display_name": "Python [conda env:base] *",
   "language": "python",
   "name": "conda-base-py"
  },
  "language_info": {
   "codemirror_mode": {
    "name": "ipython",
    "version": 3
   },
   "file_extension": ".py",
   "mimetype": "text/x-python",
   "name": "python",
   "nbconvert_exporter": "python",
   "pygments_lexer": "ipython3",
   "version": "3.12.7"
  }
 },
 "nbformat": 4,
 "nbformat_minor": 5
}
