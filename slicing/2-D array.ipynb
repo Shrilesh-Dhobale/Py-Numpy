{
 "cells": [
  {
   "cell_type": "code",
   "execution_count": 7,
   "id": "262b2d24-b575-454a-8093-d6b1cad0a352",
   "metadata": {},
   "outputs": [
    {
     "name": "stdout",
     "output_type": "stream",
     "text": [
      "6\n",
      "1\n",
      "[3 6]\n"
     ]
    }
   ],
   "source": [
    "#Slicing of 2-d array\n",
    "import numpy as np\n",
    "arr=np.array([[1,2,3], [4, 5, 6]])\n",
    "print(arr[1,2])\n",
    "print(arr[-2,-3])\n",
    "print(arr[-2:2:1,2])"
   ]
  }
 ],
 "metadata": {
  "kernelspec": {
   "display_name": "Python [conda env:base] *",
   "language": "python",
   "name": "conda-base-py"
  },
  "language_info": {
   "codemirror_mode": {
    "name": "ipython",
    "version": 3
   },
   "file_extension": ".py",
   "mimetype": "text/x-python",
   "name": "python",
   "nbconvert_exporter": "python",
   "pygments_lexer": "ipython3",
   "version": "3.12.7"
  }
 },
 "nbformat": 4,
 "nbformat_minor": 5
}
