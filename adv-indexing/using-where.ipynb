{
 "cells": [
  {
   "cell_type": "code",
   "execution_count": 1,
   "id": "54c94d42-ae59-47f7-810a-c9cdf2797f71",
   "metadata": {},
   "outputs": [
    {
     "name": "stdout",
     "output_type": "stream",
     "text": [
      "(array([2, 3], dtype=int64),)\n",
      "[30 40]\n"
     ]
    }
   ],
   "source": [
    "\n",
    "import numpy as np\n",
    "arr=np.array([10,20,30,40])\n",
    "indices=np.where(arr>20)\n",
    "print(indices)\n",
    "print(arr[indices])"
   ]
  },
  {
   "cell_type": "code",
   "execution_count": 6,
   "id": "de44716d-9de7-4dbc-a94c-78630720c9ee",
   "metadata": {},
   "outputs": [
    {
     "name": "stdout",
     "output_type": "stream",
     "text": [
      "[89 76 90]\n",
      "3\n"
     ]
    }
   ],
   "source": [
    "import numpy as np\n",
    "scores=np.array([45,67,89,32,76,90])\n",
    "high=scores[scores>70]\n",
    "count=len(high)\n",
    "print(high)\n",
    "print(count)"
   ]
  }
 ],
 "metadata": {
  "kernelspec": {
   "display_name": "Python [conda env:base] *",
   "language": "python",
   "name": "conda-base-py"
  },
  "language_info": {
   "codemirror_mode": {
    "name": "ipython",
    "version": 3
   },
   "file_extension": ".py",
   "mimetype": "text/x-python",
   "name": "python",
   "nbconvert_exporter": "python",
   "pygments_lexer": "ipython3",
   "version": "3.12.7"
  }
 },
 "nbformat": 4,
 "nbformat_minor": 5
}
