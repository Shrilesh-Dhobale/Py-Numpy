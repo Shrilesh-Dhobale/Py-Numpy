{
 "cells": [
  {
   "cell_type": "code",
   "execution_count": 5,
   "id": "c6a4c58a-dcf0-4a3e-b8ce-eb8a76499003",
   "metadata": {},
   "outputs": [
    {
     "name": "stdout",
     "output_type": "stream",
     "text": [
      "[ 6  7  8  9 10]\n",
      "[ 6  7  8  9 10]\n"
     ]
    }
   ],
   "source": [
    "#Add scalar to array\n",
    "import numpy as np\n",
    "arr=np.array([1, 2, 3, 4, 5])\n",
    "result=arr+5\n",
    "print(arr+5)\n",
    "print(result)\n"
   ]
  },
  {
   "cell_type": "code",
   "execution_count": 6,
   "id": "7903bef2-33c2-46a9-bef1-9276de5792eb",
   "metadata": {},
   "outputs": [
    {
     "name": "stdout",
     "output_type": "stream",
     "text": [
      "[[11 22 33]\n",
      " [14 25 36]]\n"
     ]
    }
   ],
   "source": [
    "#Add 1D t0 2D\n",
    "import numpy as np\n",
    "a=np.array([[1,2,3],[4,5,6]])#3,2\n",
    "b=np.array([10,20,30])#3\n",
    "print(a+b)"
   ]
  },
  {
   "cell_type": "code",
   "execution_count": 8,
   "id": "0c73fbaf-e61e-4d5c-86be-f9256f54a6a2",
   "metadata": {},
   "outputs": [
    {
     "name": "stdout",
     "output_type": "stream",
     "text": [
      "[[[2 4]\n",
      "  [3 5]]\n",
      "\n",
      " [[4 6]\n",
      "  [5 7]]]\n"
     ]
    }
   ],
   "source": [
    "#Add 1d into 3D\n",
    "import numpy as np\n",
    "a=np.array([[[1,2],[2,3]],[[3,4],[4,5]]])#2,2,1\n",
    "b=np.array([1,2])#2\n",
    "print(a+b)"
   ]
  },
  {
   "cell_type": "code",
   "execution_count": 9,
   "id": "57285bf8-48bd-47ad-a770-0616e8fde8ae",
   "metadata": {},
   "outputs": [
    {
     "name": "stdout",
     "output_type": "stream",
     "text": [
      "[[[ 2  5]\n",
      "  [ 5  9]]\n",
      "\n",
      " [[ 6  9]\n",
      "  [ 8 12]]]\n"
     ]
    }
   ],
   "source": [
    "#Add 2d to 3D\n",
    "import numpy as np\n",
    "a=np.array([[[1,2],[3,4]],[[5,6],[6,7]]])\n",
    "b=np.array([[1,3],[2,5]])\n",
    "print(a+b)"
   ]
  }
 ],
 "metadata": {
  "kernelspec": {
   "display_name": "Python [conda env:base] *",
   "language": "python",
   "name": "conda-base-py"
  },
  "language_info": {
   "codemirror_mode": {
    "name": "ipython",
    "version": 3
   },
   "file_extension": ".py",
   "mimetype": "text/x-python",
   "name": "python",
   "nbconvert_exporter": "python",
   "pygments_lexer": "ipython3",
   "version": "3.12.7"
  }
 },
 "nbformat": 4,
 "nbformat_minor": 5
}
