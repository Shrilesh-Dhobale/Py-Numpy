{
 "cells": [
  {
   "cell_type": "code",
   "execution_count": 1,
   "id": "b793d701-5ed3-45e7-8179-bc6c15a65215",
   "metadata": {},
   "outputs": [
    {
     "name": "stdout",
     "output_type": "stream",
     "text": [
      "2\n"
     ]
    }
   ],
   "source": [
    "#Acces elements from 1-D array\n",
    "import numpy as np\n",
    "arr=np.array([1,2,3,4,5])\n",
    "print(arr[1])\n",
    "print(arr[2]+arr[3])"
   ]
  },
  {
   "cell_type": "code",
   "execution_count": 11,
   "id": "9a178385-eeaf-4eac-b44a-90c0bab0fd80",
   "metadata": {},
   "outputs": [
    {
     "name": "stdout",
     "output_type": "stream",
     "text": [
      "3\n",
      "7\n"
     ]
    }
   ],
   "source": [
    "#Access elements from 2-D array\n",
    "import numpy as np\n",
    "arr=np.array([[1,2,3],[4,5,6]])\n",
    "print(arr[0,2])\n",
    "print(arr[0,1]+arr[1,1])"
   ]
  },
  {
   "cell_type": "code",
   "execution_count": 12,
   "id": "d3ed9a11-e36f-4b43-aa75-d9ddf402390a",
   "metadata": {},
   "outputs": [
    {
     "name": "stdout",
     "output_type": "stream",
     "text": [
      "3\n",
      "11\n"
     ]
    }
   ],
   "source": [
    "#Access elements from 3-D array\n",
    "import numpy as np\n",
    "arr=np.array([[[1, 2], [3,4]],[[5, 6], [6, 7]]])\n",
    "print(arr[0,1,0])\n",
    "print(arr[0, 1, 1]+ arr[1, 1, 1])"
   ]
  }
 ],
 "metadata": {
  "kernelspec": {
   "display_name": "Python [conda env:base] *",
   "language": "python",
   "name": "conda-base-py"
  },
  "language_info": {
   "codemirror_mode": {
    "name": "ipython",
    "version": 3
   },
   "file_extension": ".py",
   "mimetype": "text/x-python",
   "name": "python",
   "nbconvert_exporter": "python",
   "pygments_lexer": "ipython3",
   "version": "3.12.7"
  }
 },
 "nbformat": 4,
 "nbformat_minor": 5
}
