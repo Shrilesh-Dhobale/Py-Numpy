{
 "cells": [
  {
   "cell_type": "code",
   "execution_count": 2,
   "id": "17bfc5af-b3ca-4c43-9581-a55300f1798f",
   "metadata": {},
   "outputs": [
    {
     "name": "stdout",
     "output_type": "stream",
     "text": [
      "3\n",
      "3\n"
     ]
    }
   ],
   "source": [
    "#Acces 1-D array -vely\n",
    "import numpy as np\n",
    "arr=np.array([1,2,3,4])\n",
    "print(arr[-2])\n",
    "print(arr[-3]+arr[-4])"
   ]
  },
  {
   "cell_type": "code",
   "execution_count": 6,
   "id": "88962d86-be6b-4095-aa12-a693191d316a",
   "metadata": {},
   "outputs": [
    {
     "name": "stdout",
     "output_type": "stream",
     "text": [
      "3\n",
      "5\n"
     ]
    }
   ],
   "source": [
    "#Access 2-D array -vely\n",
    "import numpy as np\n",
    "arr=np.array([[1, 2], [3, 4]])\n",
    "print(arr[-1, -2])\n",
    "print(arr[-2, -1] + arr[-1, -2])"
   ]
  },
  {
   "cell_type": "code",
   "execution_count": 8,
   "id": "f6a61679-cad8-4d2d-919b-3fc81eba2e62",
   "metadata": {},
   "outputs": [
    {
     "name": "stdout",
     "output_type": "stream",
     "text": [
      "2\n",
      "14\n"
     ]
    }
   ],
   "source": [
    "#Access 3-D array -vely\n",
    "import numpy as np\n",
    "arr=np.array([[[1, 2], [3, 4]], [[5, 6], [7, 8]]])\n",
    "print(arr[-2,-2,-1])\n",
    "print(arr[-1,-2,-1] + arr[-1,-1,-1])"
   ]
  }
 ],
 "metadata": {
  "kernelspec": {
   "display_name": "Python [conda env:base] *",
   "language": "python",
   "name": "conda-base-py"
  },
  "language_info": {
   "codemirror_mode": {
    "name": "ipython",
    "version": 3
   },
   "file_extension": ".py",
   "mimetype": "text/x-python",
   "name": "python",
   "nbconvert_exporter": "python",
   "pygments_lexer": "ipython3",
   "version": "3.12.7"
  }
 },
 "nbformat": 4,
 "nbformat_minor": 5
}
