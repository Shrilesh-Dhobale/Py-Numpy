{
 "cells": [
  {
   "cell_type": "code",
   "execution_count": null,
   "id": "243b32cd-406c-4a95-b203-05025a977d08",
   "metadata": {},
   "outputs": [],
   "source": []
  }
 ],
 "metadata": {
  "kernelspec": {
   "display_name": "",
   "name": ""
  },
  "language_info": {
   "name": ""
  }
 },
 "nbformat": 4,
 "nbformat_minor": 5
}
