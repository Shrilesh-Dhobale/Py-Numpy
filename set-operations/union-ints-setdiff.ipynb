{
 "cells": [
  {
   "cell_type": "code",
   "execution_count": null,
   "id": "fd32e582-2745-43ce-8e04-ea5f4f0d853c",
   "metadata": {},
   "outputs": [],
   "source": [
    "import numpy as np\n",
    "\n",
    "a=np.array([10,20,30,40])\n",
    "b=np.array([30,40,50,60])\n",
    "\n",
    "u=np.union1d(a,b)\n",
    "i=np.intersection1d(a,b)\n"
   ]
  }
 ],
 "metadata": {
  "kernelspec": {
   "display_name": "Python [conda env:base] *",
   "language": "python",
   "name": "conda-base-py"
  },
  "language_info": {
   "codemirror_mode": {
    "name": "ipython",
    "version": 3
   },
   "file_extension": ".py",
   "mimetype": "text/x-python",
   "name": "python",
   "nbconvert_exporter": "python",
   "pygments_lexer": "ipython3",
   "version": "3.12.7"
  }
 },
 "nbformat": 4,
 "nbformat_minor": 5
}
