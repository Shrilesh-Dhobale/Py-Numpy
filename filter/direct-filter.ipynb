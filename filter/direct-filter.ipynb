{
 "cells": [
  {
   "cell_type": "code",
   "execution_count": 2,
   "id": "6441ebe5-8f35-4ccd-b799-916e6ca79b30",
   "metadata": {},
   "outputs": [
    {
     "name": "stdout",
     "output_type": "stream",
     "text": [
      "[False False  True  True  True  True  True  True  True]\n",
      "[3 4 5 6 7 8 9]\n",
      "[False  True False  True False  True False  True False]\n",
      "[2 4 6 8]\n"
     ]
    }
   ],
   "source": [
    "import numpy as np\n",
    "\n",
    "arr=np.array([1,2,3,4,5,6,7,8,9])\n",
    "\n",
    "filter_arr=arr>2\n",
    "filter_arr2=arr%2==0\n",
    "\n",
    "newarr1=arr[filter_arr]\n",
    "newarr2=arr[filter_arr2]\n",
    "\n",
    "print(filter_arr)\n",
    "print(newarr1)\n",
    "print(filter_arr2)\n",
    "print(newarr2)"
   ]
  }
 ],
 "metadata": {
  "kernelspec": {
   "display_name": "Python [conda env:base] *",
   "language": "python",
   "name": "conda-base-py"
  },
  "language_info": {
   "codemirror_mode": {
    "name": "ipython",
    "version": 3
   },
   "file_extension": ".py",
   "mimetype": "text/x-python",
   "name": "python",
   "nbconvert_exporter": "python",
   "pygments_lexer": "ipython3",
   "version": "3.12.7"
  }
 },
 "nbformat": 4,
 "nbformat_minor": 5
}
